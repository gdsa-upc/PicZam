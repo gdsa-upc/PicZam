{
 "cells": [
  {
   "cell_type": "markdown",
   "metadata": {
    "deletable": true,
    "editable": true
   },
   "source": [
    "# Rank"
   ]
  },
  {
   "cell_type": "markdown",
   "metadata": {
    "deletable": true,
    "editable": true
   },
   "source": [
    "Carreguem les variables i els diccionaries de carectristiques de validadcio i entrenament"
   ]
  },
  {
   "cell_type": "code",
   "execution_count": 4,
   "metadata": {
    "collapsed": false,
    "deletable": true,
    "editable": true
   },
   "outputs": [
    {
     "ename": "ImportError",
     "evalue": "No module named get_params",
     "output_type": "error",
     "traceback": [
      "\u001b[0;31m\u001b[0m",
      "\u001b[0;31mImportError\u001b[0mTraceback (most recent call last)",
      "\u001b[0;32m<ipython-input-4-a8421d56f1dc>\u001b[0m in \u001b[0;36m<module>\u001b[0;34m()\u001b[0m\n\u001b[1;32m      2\u001b[0m \u001b[0;32mimport\u001b[0m \u001b[0mpickle\u001b[0m\u001b[0;34m\u001b[0m\u001b[0m\n\u001b[1;32m      3\u001b[0m \u001b[0;32mimport\u001b[0m \u001b[0mnumpy\u001b[0m \u001b[0;32mas\u001b[0m \u001b[0mnp\u001b[0m\u001b[0;34m\u001b[0m\u001b[0m\n\u001b[0;32m----> 4\u001b[0;31m \u001b[0;32mfrom\u001b[0m \u001b[0mget_params\u001b[0m \u001b[0;32mimport\u001b[0m \u001b[0mget_params\u001b[0m\u001b[0;34m\u001b[0m\u001b[0m\n\u001b[0m\u001b[1;32m      5\u001b[0m \u001b[0;32mfrom\u001b[0m \u001b[0msklearn\u001b[0m\u001b[0;34m.\u001b[0m\u001b[0mmetrics\u001b[0m\u001b[0;34m.\u001b[0m\u001b[0mpairwise\u001b[0m \u001b[0;32mimport\u001b[0m \u001b[0mpairwise_distances\u001b[0m\u001b[0;34m\u001b[0m\u001b[0m\n\u001b[1;32m      6\u001b[0m \u001b[0;34m\u001b[0m\u001b[0m\n",
      "\u001b[0;31mImportError\u001b[0m: No module named get_params"
     ]
    }
   ],
   "source": [
    "import os\n",
    "import pickle\n",
    "import numpy as np\n",
    "from get_params import get_params\n",
    "from sklearn.metrics.pairwise import pairwise_distances\n",
    "\n",
    "def rank(params):\n",
    "\n",
    "    \n",
    "    val_features = pickle.load(open(os.path.join(params['root'],params['root_save'],params['feats_dir'],\n",
    "                             params['split'] + \"_\" + str(params['descriptor_size']) + \"_\"\n",
    "                             + params['descriptor_type'] + \"_\" + params['keypoint_type'] + '.p'),'rb'))\n",
    "\n",
    "    train_features = pickle.load(open(os.path.join(params['root'],params['root_save'],params['feats_dir'],\n",
    "                             'train' + \"_\" + str(params['descriptor_size']) + \"_\"\n",
    "                             + params['descriptor_type'] + \"_\" + params['keypoint_type'] + '.p'),'rb'))\n",
    "\n"
   ]
  },
  {
   "cell_type": "markdown",
   "metadata": {
    "deletable": true,
    "editable": true
   },
   "source": [
    "Per a cada imatge obtenim, les seves característiques i les posem en una matriu per crear una llista que dira rankings, seguidament guardem el fitxer de text\n",
    " "
   ]
  },
  {
   "cell_type": "code",
   "execution_count": 3,
   "metadata": {
    "collapsed": false,
    "deletable": true,
    "editable": true
   },
   "outputs": [
    {
     "ename": "IndentationError",
     "evalue": "unexpected indent (<ipython-input-3-af0a62476953>, line 2)",
     "output_type": "error",
     "traceback": [
      "\u001b[0;36m  File \u001b[0;32m\"<ipython-input-3-af0a62476953>\"\u001b[0;36m, line \u001b[0;32m2\u001b[0m\n\u001b[0;31m    for val_id in val_features.keys():\u001b[0m\n\u001b[0m    ^\u001b[0m\n\u001b[0;31mIndentationError\u001b[0m\u001b[0;31m:\u001b[0m unexpected indent\n"
     ]
    }
   ],
   "source": [
    "\n",
    "    for val_id in val_features.keys():\n",
    "\n",
    "       \n",
    "        bow_feats = val_features[val_id]\n",
    "\n",
    "        \n",
    "        ranking = train_features.keys()\n",
    "\n",
    "        X = np.array(train_features.values())\n",
    "\n",
    "        # The .squeeze() method reduces the dimensions of an array to the minimum. E.g. if we have a numpy array of shape (400,1,100) it will transform it to (400,100)\n",
    "        distances = pairwise_distances(bow_feats,X.squeeze())\n",
    "\n",
    "\n",
    "        # Sort the ranking according to the distances. We convert 'ranking' to numpy.array to sort it, and then back to list (although we could leave it as numpy array).\n",
    "        ranking = list(np.array(ranking)[np.argsort(distances.squeeze())])\n",
    "\n",
    "       \n",
    "        outfile = open(os.path.join(params['root'],params['root_save'],params['rankings_dir'],params['descriptor_type'],params['split'],val_id.split('.')[0] + '.txt'),'w')\n",
    "\n",
    "        for item in ranking:\n",
    "\n",
    "            outfile.write(item.split('.')[0] + '\\n')\n",
    "\n",
    "        outfile.close()\n",
    "\n",
    "if __name__ == \"__main__\":\n",
    "\n",
    "    params = get_params()\n",
    "    rank(params)"
   ]
  },
  {
   "cell_type": "markdown",
   "metadata": {
    "deletable": true,
    "editable": true
   },
   "source": [
    "# Eval_Rankings"
   ]
  },
  {
   "cell_type": "raw",
   "metadata": {},
   "source": [
    "Carreguem les llistes de rank per poder evaluarles. Posarem com a model la imatge que estem comparant i la marcarem amb un contarn blau. Mostarem els 10 primers elements del ranking"
   ]
  },
  {
   "cell_type": "code",
   "execution_count": null,
   "metadata": {
    "collapsed": true,
    "deletable": true,
    "editable": true
   },
   "outputs": [],
   "source": [
    "def display(params,query_id,ranking,relnotrel):\n",
    "\n",
    "    ''' Display the first elements of the ranking '''\n",
    "\n",
    "\n",
    "   \n",
    "    query_im =  cv2.imread(os.path.join(params['root'],params['database'],params['split'], 'images',query_id.split('.')[0] + '.jpg'))\n",
    "\n",
    "    \n",
    "    if query_im is None:\n",
    "        query_im =  cv2.imread(os.path.join(params['root'],params['database'],params['split'], 'images',query_id.split('.')[0] + '.JPG'))\n",
    "\n",
    "\n",
    "\n",
    "    query_im = cv2.cvtColor(query_im,cv2.COLOR_BGR2RGB)\n",
    "    query_im = cv2.copyMakeBorder(query_im,100,100,100,100,cv2.BORDER_CONSTANT,value=[0,0,255])\n",
    "   \n",
    "    fig = plt.figure(figsize=(20,10))\n",
    "    ax = fig.add_subplot(4, 4, 1)\n",
    "\n",
    "    \n",
    "    ax.imshow(query_im)\n",
    "    ax.axes.get_xaxis().set_visible(False)\n",
    "    ax.axes.get_yaxis().set_visible(False)"
   ]
  },
  {
   "cell_type": "markdown",
   "metadata": {},
   "source": [
    "Obtenim les anotacions correctes"
   ]
  },
  {
   "cell_type": "code",
   "execution_count": null,
   "metadata": {
    "collapsed": true
   },
   "outputs": [],
   "source": [
    "def read_annotation(params):\n",
    "\n",
    "    annotation_val = pd.read_csv(os.path.join(params['root'],params['database'],params['split'],'annotation.txt'), sep='\\t', header = 0)\n",
    "    annotation_train = pd.read_csv(os.path.join(params['root'],params['database'],'train','annotation.txt'), sep='\\t', header = 0)\n",
    "\n",
    "    return annotation_val,annotation_train"
   ]
  },
  {
   "cell_type": "markdown",
   "metadata": {},
   "source": [
    "Obtenim cada clase de les anotacions d'entrenament si coincideixen vol dir que son correctes retornem un 1 \n",
    "si no retornem un 0"
   ]
  },
  {
   "cell_type": "code",
   "execution_count": null,
   "metadata": {
    "collapsed": true
   },
   "outputs": [],
   "source": [
    "def get_hitandmiss(ranking,query_class,annotation_train):\n",
    "\n",
    "  \n",
    "    relnotrel = []\n",
    "\n",
    "   \n",
    "    for i in ranking[0].tolist():\n",
    "\n",
    "       \n",
    "        i_class = list(annotation_train.loc[annotation_train['ImageID'] == i]['ClassID'])[0]\n",
    "\n",
    "       \n",
    "        if query_class == i_class:\n",
    "\n",
    "            \n",
    "            relnotrel.append(1)\n",
    "        else:\n",
    "\n",
    "            \n",
    "            relnotrel.append(0)\n",
    "\n",
    "    return relnotrel"
   ]
  },
  {
   "cell_type": "markdown",
   "metadata": {},
   "source": [
    "Calculem la precisio"
   ]
  },
  {
   "cell_type": "code",
   "execution_count": null,
   "metadata": {
    "collapsed": true
   },
   "outputs": [],
   "source": [
    "def AveragePrecision(relist):\n",
    "    '''Takes a hit & miss list with ones and zeros and computes its average precision'''\n",
    "\n",
    "    \n",
    "    accu = 0\n",
    "\n",
    "   \n",
    "    numRel = 0\n",
    "\n",
    "    # For all elements in the hit & miss list\n",
    "    for k in range(len(relist)):\n",
    "\n",
    "        # If the value is 1\n",
    "        if relist[k] == 1:\n",
    "\n",
    "            # We add 1 to the number of correct instances\n",
    "            numRel = numRel + 1\n",
    "\n",
    "            # We calculate the precision at k (+1 because we start at 0) and we accumulate it\n",
    "            accu += float( numRel )/ float(k+1)\n",
    "\n",
    "    # When we finish, we divide by the total number of relevant instances, which is the sum of ones in the list\n",
    "    return (accu/np.sum(relist))\n"
   ]
  },
  {
   "cell_type": "markdown",
   "metadata": {},
   "source": [
    "Carreguem les clases de validacio les quals seran evaluades"
   ]
  },
  {
   "cell_type": "code",
   "execution_count": null,
   "metadata": {
    "collapsed": true
   },
   "outputs": [],
   "source": [
    "def load_ranking(params,query_id, annotation_val):\n",
    "\n",
    "    ''' Loads and  returns the ranking from the txt. Returns the true class of the query image as well.'''\n",
    "\n",
    "    # Get the true class of the validation image for which we will evaluate the ranking\n",
    "    query_class = list(annotation_val.loc[annotation_val['ImageID'] == query_id.split('.')[0]]['ClassID'])[0]\n",
    "\n",
    "    # Open its ranking file\n",
    "    ranking = pd.read_csv(os.path.join(params['root'],params['root_save'],params['rankings_dir'],params['descriptor_type'],params['split'],query_id.split('.')[0] + '.txt'),header= None)\n",
    "\n",
    "    return query_class, ranking\n"
   ]
  },
  {
   "cell_type": "markdown",
   "metadata": {},
   "source": [
    "convertim el elements a un string i les llistem en el ranking"
   ]
  },
  {
   "cell_type": "code",
   "execution_count": null,
   "metadata": {
    "collapsed": true
   },
   "outputs": [],
   "source": [
    "def save_ranking_file(file_to_save,image_id,ranking):\n",
    "\n",
    "    '''\n",
    "    :param file_to_save: name of the file to be saved\n",
    "    :param image_id: name of the query image\n",
    "    :param ranking: ranking for the image image_id\n",
    "    :return: the updated state of the file to be saved\n",
    "    '''\n",
    "\n",
    "    # Write query name\n",
    "    file_to_save.write(image_id.split('.')[0] + ',')\n",
    "\n",
    "\n",
    "    ranking = np.array(ranking).astype('str').tolist()\n",
    "\n",
    "    \n",
    "    for item in ranking:\n",
    "        file_to_save.write(item[0] + \" \")\n",
    "\n",
    "    file_to_save.write('\\n')\n",
    "\n",
    "    return file_to_save"
   ]
  },
  {
   "cell_type": "markdown",
   "metadata": {},
   "source": [
    "Evaluem les llistes creades anteriorment i calculem la acuracitat per a cada edifici i els imprimim. Activant una linia podem imprimir els resultats amb les imatges recuadrades amb verd si ha accertat o en vermell si ha fallat"
   ]
  },
  {
   "cell_type": "code",
   "execution_count": null,
   "metadata": {
    "collapsed": true
   },
   "outputs": [],
   "source": [
    "def eval_rankings(params):\n",
    "\n",
    "    ap_list = []\n",
    "\n",
    "    \n",
    "    if params['save_for_kaggle']:\n",
    "\n",
    "        file_to_save = open(os.path.join(params['root'],params['root_save'],params['kaggle_dir'],params['descriptor_type'] + '_' + params['split'] + '_ranking.csv'),'w')\n",
    "\n",
    "      \n",
    "        file_to_save.write(\"Query,RetrievedDocuments\\n\")\n",
    "\n",
    "    # Create a dictionary to store the accumulated AP for each class\n",
    "    dict_ = {key: 0 for key in params['possible_labels']}\n",
    "\n",
    "    # Get true annotations\n",
    "    annotation_val, annotation_train = read_annotation(params)\n",
    "    '''  \n",
    "    # Used once to save ranking annotations for kaggle competition.\n",
    "    gt_file_to_save = open(os.path.join(params['root'],params['root_save'],params['kaggle_dir'],params['split'] + '_rankingannotation.csv'),'w')\n",
    "    kaggle_scripts.convert_ranking_annotation(annotation_val,annotation_train,gt_file_to_save)\n",
    "  '''  \n",
    "\n",
    "    # For all generated rankings\n",
    "    for val_id in os.listdir(os.path.join(params['root'],params['root_save'],params['rankings_dir'],params['descriptor_type'],params['split'])):\n",
    "\n",
    "        query_class, ranking = load_ranking(params,val_id,annotation_val)\n",
    "\n",
    "       \n",
    "        if not query_class == \"desconegut\":\n",
    "            #single_eval(params,val_id)  # <-----\n",
    "            if params['save_for_kaggle']:\n",
    "\n",
    "                file_to_save = save_ranking_file(file_to_save,val_id,ranking)\n",
    "\n",
    "            \n",
    "            relnotrel = get_hitandmiss(ranking,query_class,annotation_train)\n",
    "\n",
    "           \n",
    "            ap = AveragePrecision(relnotrel)\n",
    "\n",
    "\n",
    "            # OPTIONAL: Add the AP to the according dictionary entry\n",
    "            dict_[query_class] += ap\n",
    "\n",
    "            # Store it\n",
    "            ap_list.append(ap)\n",
    "\n",
    "\n",
    "    if params['save_for_kaggle']:\n",
    "\n",
    "        file_to_save.close()\n",
    "\n",
    "    return ap_list, dict_\n"
   ]
  },
  {
   "cell_type": "markdown",
   "metadata": {},
   "source": []
  },
  {
   "cell_type": "code",
   "execution_count": null,
   "metadata": {
    "collapsed": true
   },
   "outputs": [],
   "source": [
    "def single_eval(params,query_id):\n",
    "\n",
    "    # We get the true annotations of both sets. We do this in order to display this information as well.\n",
    "    annotation_val, annotation_train = read_annotation(params)\n",
    "\n",
    "    # We get the ranking and the true class of the query\n",
    "    query_class, ranking = load_ranking(params,query_id,annotation_val)\n",
    "\n",
    "    # I made sure I was not picking an image from the \"desconegut\" class ...\n",
    "    print query_class\n",
    "\n",
    "    # The ranking is composed of the training images. It should be of size 450.\n",
    "    print len(ranking)\n",
    "\n",
    "    # We get the hit/miss list for the ranking\n",
    "    relnotrel = get_hitandmiss(ranking,query_class,annotation_train)\n",
    "\n",
    "    display(params,query_id,ranking,relnotrel)\n",
    "\n",
    "if __name__ == \"__main__\":\n",
    "\n",
    "    params = get_params()\n",
    "\n",
    "    ap_list, dict_ = eval_rankings(params)\n",
    "    print 'Accuracy:'\n",
    "    print 'Mean:',np.mean(ap_list)\n",
    "\n",
    "    for id in dict_.keys():\n",
    "        if not id == 'desconegut':\n",
    "            # We divide by 10 because it's the number of images per class in the validation set.\n",
    "            print id+':', dict_[id]/10"
   ]
  },
  {
   "cell_type": "code",
   "execution_count": null,
   "metadata": {
    "collapsed": true
   },
   "outputs": [],
   "source": []
  }
 ],
 "metadata": {
  "kernelspec": {
   "display_name": "Python 2",
   "language": "python",
   "name": "python2"
  },
  "language_info": {
   "codemirror_mode": {
    "name": "ipython",
    "version": 2
   },
   "file_extension": ".py",
   "mimetype": "text/x-python",
   "name": "python",
   "nbconvert_exporter": "python",
   "pygments_lexer": "ipython2",
   "version": "2.7.13"
  }
 },
 "nbformat": 4,
 "nbformat_minor": 2
}
